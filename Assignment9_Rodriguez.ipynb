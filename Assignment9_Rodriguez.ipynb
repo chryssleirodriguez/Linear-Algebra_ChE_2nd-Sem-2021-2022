{
  "nbformat": 4,
  "nbformat_minor": 0,
  "metadata": {
    "colab": {
      "name": "Assignment9:Rodriguez.ipynb",
      "provenance": [],
      "authorship_tag": "ABX9TyO390twDipDhZU0DWqeseIi",
      "include_colab_link": true
    },
    "kernelspec": {
      "name": "python3",
      "display_name": "Python 3"
    },
    "language_info": {
      "name": "python"
    }
  },
  "cells": [
    {
      "cell_type": "markdown",
      "metadata": {
        "id": "view-in-github",
        "colab_type": "text"
      },
      "source": [
        "<a href=\"https://colab.research.google.com/github/chryssleirodriguez/Linear-Algebra_ChE_2nd-Sem-2021-2022/blob/main/Assignment9_Rodriguez.ipynb\" target=\"_parent\"><img src=\"https://colab.research.google.com/assets/colab-badge.svg\" alt=\"Open In Colab\"/></a>"
      ]
    },
    {
      "cell_type": "markdown",
      "source": [
        "#Lab 4 - Plotting Vector using NumPy and MatPlotLib\n",
        "In this laboratory we will be discussing the basics of numerical and scientific programming by working with Vectors using NumPy and MatPlotLib."
      ],
      "metadata": {
        "id": "fnOVDLokbFGP"
      }
    },
    {
      "cell_type": "markdown",
      "source": [
        "### Objectives\n",
        "At the end of this activity you will be able to:\n",
        "1. Be familiar with the libraries in Python for numerical and scientific programming.\n",
        "2. Visualize vectors through Python programming.\n",
        "3. Perform simple vector operations through code."
      ],
      "metadata": {
        "id": "wm4U65CwbJ4V"
      }
    },
    {
      "cell_type": "markdown",
      "source": [
        "##Discussion"
      ],
      "metadata": {
        "id": "r5lL9_93bMqF"
      }
    },
    {
      "cell_type": "markdown",
      "source": [
        "###NumPy\n",
        "NumPy or Numerical Python, is mainly used for matrix and vector operations. It is capable of declaring computing and representing matrices. Most Python scientific programming libraries uses NumPy as the basic code.\n",
        "\n",
        "Scalars \\\\\n",
        "Represent magnitude or a single value\n",
        "\n",
        "Vectors \\\\\n",
        "Represent magnitude with directors"
      ],
      "metadata": {
        "id": "3o7CfyKIbQBj"
      }
    },
    {
      "cell_type": "markdown",
      "source": [
        "####Representing Vectors"
      ],
      "metadata": {
        "id": "_WyVPnIybTb4"
      }
    },
    {
      "cell_type": "markdown",
      "source": [
        "Now that you know how to represent vectors using their component and matrix form we can now hard-code them in Python. Let's say that you have the vectors:\n",
        "\n",
        "$$ A = 1\\hat{x} - 2\\hat{y} \\\\\n",
        "B = 3\\hat{x} + 4\\hat{y}\\\\\n",
        "C = 5ax - 6ay + 7az \\\\\n",
        "D = 8\\hat{i} + 9\\hat{j} + 1\\hat{k}$$"
      ],
      "metadata": {
        "id": "UWa3S3ShbYHu"
      }
    },
    {
      "cell_type": "markdown",
      "source": [
        "In which it's matrix equivalent is:\n",
        "\n",
        "$$ A = \\begin{bmatrix} 1 \\\\ -2\\end{bmatrix} , B = \\begin{bmatrix} 3 \\\\ 4\\end{bmatrix} , C = \\begin{bmatrix} 5 \\\\ -6 \\\\  7 \\end{bmatrix}, D = \\begin{bmatrix} 8 \\\\ 9 \\\\ 1\\end{bmatrix}\n",
        "$$\n",
        "$$ A = \\begin{bmatrix} 1 & -2\\end{bmatrix} , B = \\begin{bmatrix} 3 & 4\\end{bmatrix} , C = \\begin{bmatrix} 5 & -6 & 7\\end{bmatrix} , D = \\begin{bmatrix} 8 & 9 & 1\\end{bmatrix} \n",
        "$$\n",
        "\n",
        "We can then start doing numpy code with this by:"
      ],
      "metadata": {
        "id": "_u5I8CLpbbfS"
      }
    },
    {
      "cell_type": "code",
      "source": [
        "## Importing necessary libraries\n",
        "import numpy as np ## 'np' here is short-hand name of the library (numpy) or a nickname."
      ],
      "metadata": {
        "id": "6PRdncxubfsF"
      },
      "execution_count": null,
      "outputs": []
    },
    {
      "cell_type": "code",
      "source": [
        "A = np.array([1, -2])\n",
        "B = np.array([3, 4])\n",
        "C = np.array([\n",
        "              [5],\n",
        "              [-6],\n",
        "              [7]\n",
        "])\n",
        "D = np.array ([[8],\n",
        "              [9],\n",
        "              [1]])\n",
        "print('Vector A is ', A)\n",
        "print('Vector B is ', B)\n",
        "print('Vector C is ', C)\n",
        "print('Vector D is ', D)"
      ],
      "metadata": {
        "colab": {
          "base_uri": "https://localhost:8080/"
        },
        "id": "aQg4dDZObtlG",
        "outputId": "646690ae-e58e-4db6-9035-10cca9569a36"
      },
      "execution_count": null,
      "outputs": [
        {
          "output_type": "stream",
          "name": "stdout",
          "text": [
            "Vector A is  [ 1 -2]\n",
            "Vector B is  [3 4]\n",
            "Vector C is  [[ 5]\n",
            " [-6]\n",
            " [ 7]]\n",
            "Vector D is  [[8]\n",
            " [9]\n",
            " [1]]\n"
          ]
        }
      ]
    },
    {
      "cell_type": "markdown",
      "source": [
        "####Describing vectors in NumPy\n",
        "\n",
        "Describing vectors is very important if we want to perform basic to advanced operations with them. The fundamental ways in describing vectors are knowing their shape, size and dimensions."
      ],
      "metadata": {
        "id": "qRoVJ3kjbzJn"
      }
    },
    {
      "cell_type": "code",
      "source": [
        "### Checking shapes\n",
        "### Shapes tells us how many elements are there on each row and column\n",
        "\n",
        "E = np.array([[4, -2],\n",
        "             [1, 0],\n",
        "             [9, -7]])\n",
        "E.shape"
      ],
      "metadata": {
        "colab": {
          "base_uri": "https://localhost:8080/"
        },
        "id": "Iu-O_gY1b188",
        "outputId": "e4d1be50-968f-450d-e9b3-d3428344827f"
      },
      "execution_count": null,
      "outputs": [
        {
          "output_type": "execute_result",
          "data": {
            "text/plain": [
              "(3, 2)"
            ]
          },
          "metadata": {},
          "execution_count": 3
        }
      ]
    },
    {
      "cell_type": "code",
      "source": [
        "### Checking size\n",
        "### Array/Vector sizes tells us many total number of elements are there in the vector\n",
        "\n",
        "E.size"
      ],
      "metadata": {
        "colab": {
          "base_uri": "https://localhost:8080/"
        },
        "id": "-BVPdYV4b4yl",
        "outputId": "bff87a5d-64fa-4eb0-ba72-7df98e83d72c"
      },
      "execution_count": null,
      "outputs": [
        {
          "output_type": "execute_result",
          "data": {
            "text/plain": [
              "6"
            ]
          },
          "metadata": {},
          "execution_count": 4
        }
      ]
    },
    {
      "cell_type": "code",
      "source": [
        "### Checking dimensions\n",
        "### The dimensions or rank of a vector tells us how many dimensions are there for the vector.\n",
        "\n",
        "E.ndim"
      ],
      "metadata": {
        "colab": {
          "base_uri": "https://localhost:8080/"
        },
        "id": "sDi_Dprcb7OJ",
        "outputId": "ca9fbcf4-c097-4747-f7d5-5cebd4e666bf"
      },
      "execution_count": null,
      "outputs": [
        {
          "output_type": "execute_result",
          "data": {
            "text/plain": [
              "2"
            ]
          },
          "metadata": {},
          "execution_count": 5
        }
      ]
    },
    {
      "cell_type": "markdown",
      "source": [
        "####Addition"
      ],
      "metadata": {
        "id": "VwWkber5b_Pd"
      }
    },
    {
      "cell_type": "markdown",
      "source": [
        "The addition rule is simple, the we just need to add the elements of the matrices according to their index. So in this case if we add vector $A$ and vector $B$ we will have a resulting vector:\n",
        "\n",
        "$$R = 2\\hat{x}-6\\hat{y} \\\\ \\\\or \\\\ \\\\ R = \\begin{bmatrix} 2 \\\\ -6\\end{bmatrix} $$\n",
        "\n",
        "So let's try to do that in NumPy in several number of ways:"
      ],
      "metadata": {
        "id": "M54G6FxucAI1"
      }
    },
    {
      "cell_type": "code",
      "source": [
        "F = np.add(A, B) ## this is the functional method usisng the numpy library\n",
        "G = np.add(C, D)\n",
        "print(F)\n",
        "print(G)"
      ],
      "metadata": {
        "colab": {
          "base_uri": "https://localhost:8080/"
        },
        "id": "a8gE64ALcKg1",
        "outputId": "816f9611-871e-489d-e13f-aca911fa5d3f"
      },
      "execution_count": null,
      "outputs": [
        {
          "output_type": "stream",
          "name": "stdout",
          "text": [
            "[4 2]\n",
            "[[13]\n",
            " [ 3]\n",
            " [ 8]]\n"
          ]
        }
      ]
    },
    {
      "cell_type": "code",
      "source": [
        "H = A + B   ## this is the explicit method, since Python does a value-reference so it can \n",
        "            ## know that these variables would need to do array operations.\n",
        "H"
      ],
      "metadata": {
        "colab": {
          "base_uri": "https://localhost:8080/"
        },
        "id": "LY1h86wlcOsH",
        "outputId": "6bb1a5b4-f389-4adb-fc59-3dbe3803c54b"
      },
      "execution_count": null,
      "outputs": [
        {
          "output_type": "execute_result",
          "data": {
            "text/plain": [
              "array([4, 2])"
            ]
          },
          "metadata": {},
          "execution_count": 7
        }
      ]
    },
    {
      "cell_type": "code",
      "source": [
        "mema1 = np.array([5,0,3])\n",
        "mema2 = np.array([1,9,-2])\n",
        "mema3 = np.array([0,4,8])\n",
        "mema4 = np.array([1,2,-7])\n",
        "#R = mema1 + mema2 + mema3 + mema4\n",
        "#R = np.multiply(mema3, mema4)\n",
        "I = mema3 / mema4\n",
        "I"
      ],
      "metadata": {
        "colab": {
          "base_uri": "https://localhost:8080/"
        },
        "id": "O1sqUrDVcRjU",
        "outputId": "aef650e0-d975-4f27-c79b-ac88d66255b0"
      },
      "execution_count": null,
      "outputs": [
        {
          "output_type": "execute_result",
          "data": {
            "text/plain": [
              "array([ 0.        ,  2.        , -1.14285714])"
            ]
          },
          "metadata": {},
          "execution_count": 8
        }
      ]
    },
    {
      "cell_type": "markdown",
      "source": [
        "##### Try for yourself!\n",
        "\n",
        "Try to implement subtraction, multiplication, and division with vectors $A$ and $B$!"
      ],
      "metadata": {
        "id": "wx_VTZrRcUqL"
      }
    },
    {
      "cell_type": "code",
      "source": [
        "### Try out your code here! \n",
        "A = np.array([4, 3])\n",
        "B = np.array([-9, 11])\n",
        "memaA = np.array([5, 16, -3, 2])\n",
        "memaB = np.array([-9, 3, 18, 9])\n",
        "memaC = np.array([3, 8, 5, 7])\n"
      ],
      "metadata": {
        "id": "xJCAIXzlcXKT"
      },
      "execution_count": null,
      "outputs": []
    },
    {
      "cell_type": "code",
      "source": [
        "#Subtraction\n",
        "D = np.subtract(A, B)\n",
        "E = A - B\n",
        "F = memaA - memaB - memaC\n",
        "print(\"Functional method:{}\" .format(D))\n",
        "print(\"Explicit method:{}\" .format(E))\n",
        "print(\"Explicit method (Morethan2):{}\" .format(F))"
      ],
      "metadata": {
        "colab": {
          "base_uri": "https://localhost:8080/"
        },
        "id": "uWXWGossccHq",
        "outputId": "cd4049b4-8707-4500-e619-068a88ea38d2"
      },
      "execution_count": null,
      "outputs": [
        {
          "output_type": "stream",
          "name": "stdout",
          "text": [
            "Functional method:[13 -8]\n",
            "Explicit method:[13 -8]\n",
            "Explicit method (Morethan2):[ 11   5 -26 -14]\n"
          ]
        }
      ]
    },
    {
      "cell_type": "code",
      "source": [
        "#Multiplication\n",
        "G = np.multiply(A, B)\n",
        "H = A * B\n",
        "I = memaA * memaB * memaC\n",
        "print(\"Functional method:{}\" .format(G))\n",
        "print(\"Explicit method:{}\" .format(H))\n",
        "print(\"Explicit method (Morethan2):{}\" .format(I))"
      ],
      "metadata": {
        "colab": {
          "base_uri": "https://localhost:8080/"
        },
        "id": "az0NM2Ynce8D",
        "outputId": "3c0235b2-ed6b-4b09-f1cc-773739133167"
      },
      "execution_count": null,
      "outputs": [
        {
          "output_type": "stream",
          "name": "stdout",
          "text": [
            "Functional method:[-36  33]\n",
            "Explicit method:[-36  33]\n",
            "Explicit method (Morethan2):[-135  384 -270  126]\n"
          ]
        }
      ]
    },
    {
      "cell_type": "code",
      "source": [
        "#Division\n",
        "J = np.divide(A, B)\n",
        "K = A / B\n",
        "L = memaA / memaB / memaC\n",
        "print(\"Functional method:{}\" .format(J))\n",
        "print(\"Explicit method:{}\" .format(K))\n",
        "print(\"Explicit method (Morethan2):{}\" .format(L))"
      ],
      "metadata": {
        "colab": {
          "base_uri": "https://localhost:8080/"
        },
        "id": "zfFOVtWxchDl",
        "outputId": "c8c70f82-d634-4a8f-903c-8b5077e351b4"
      },
      "execution_count": null,
      "outputs": [
        {
          "output_type": "stream",
          "name": "stdout",
          "text": [
            "Functional method:[-0.44444444  0.27272727]\n",
            "Explicit method:[-0.44444444  0.27272727]\n",
            "Explicit method (Morethan2):[-0.18518519  0.66666667 -0.03333333  0.03174603]\n"
          ]
        }
      ]
    },
    {
      "cell_type": "markdown",
      "source": [
        "### Scaling\n",
        "\n",
        "Scaling or scalar multiplication takes a scalar value and performs multiplication with a vector. Let's take the example below:\n",
        "\n",
        "$$Z = 2 \\cdot A$$\n",
        "\n",
        "We can do this in numpy through:"
      ],
      "metadata": {
        "id": "rMlkRqaIckD3"
      }
    },
    {
      "cell_type": "code",
      "source": [
        "#Z = 2 * A\n",
        "Z = np.multiply(2,A)\n",
        "Z"
      ],
      "metadata": {
        "colab": {
          "base_uri": "https://localhost:8080/"
        },
        "id": "10WenBhIcmWn",
        "outputId": "f4babef3-630c-486f-eb27-1e269a4922e9"
      },
      "execution_count": null,
      "outputs": [
        {
          "output_type": "execute_result",
          "data": {
            "text/plain": [
              "array([8, 6])"
            ]
          },
          "metadata": {},
          "execution_count": 13
        }
      ]
    },
    {
      "cell_type": "markdown",
      "source": [
        "Try to implement scaling with two vectors.\n"
      ],
      "metadata": {
        "id": "tAKlYHIVcqGi"
      }
    },
    {
      "cell_type": "code",
      "source": [
        "### Try out you code here! \n",
        "M = np.array([4, -5])\n",
        "N = np.array([6, 7])"
      ],
      "metadata": {
        "id": "Jo3jhwL3cs4H"
      },
      "execution_count": null,
      "outputs": []
    },
    {
      "cell_type": "code",
      "source": [
        "O = np.multiply(M,Z)\n",
        "O"
      ],
      "metadata": {
        "colab": {
          "base_uri": "https://localhost:8080/"
        },
        "id": "bg8AFzKkcwnL",
        "outputId": "b7b4598c-bed6-409d-f624-59d8617a3712"
      },
      "execution_count": null,
      "outputs": [
        {
          "output_type": "execute_result",
          "data": {
            "text/plain": [
              "array([ 32, -30])"
            ]
          },
          "metadata": {},
          "execution_count": 15
        }
      ]
    },
    {
      "cell_type": "code",
      "source": [
        "P = np.multiply(M,N,Z)\n",
        "P"
      ],
      "metadata": {
        "colab": {
          "base_uri": "https://localhost:8080/"
        },
        "id": "mE46IkaSczAP",
        "outputId": "95f79783-09cb-458b-df44-1bf5a4cd751d"
      },
      "execution_count": null,
      "outputs": [
        {
          "output_type": "execute_result",
          "data": {
            "text/plain": [
              "array([ 24, -35])"
            ]
          },
          "metadata": {},
          "execution_count": 16
        }
      ]
    },
    {
      "cell_type": "markdown",
      "source": [
        "### MatPlotLib\n",
        "\n",
        "MatPlotLib or MATLab Plotting library is Python's take on MATLabs plotting feature. MatPlotLib can be used vastly from graping values to visualizing several dimensions of data."
      ],
      "metadata": {
        "id": "iJHEu0Rkc4o1"
      }
    },
    {
      "cell_type": "markdown",
      "source": [
        "#### Visualizing Data\n",
        "\n",
        "It's not enough just solving these vectors so might need to visualize them. So we'll use MatPlotLib for that. We'll need to import it first."
      ],
      "metadata": {
        "id": "A8fCQlZAc80r"
      }
    },
    {
      "cell_type": "code",
      "source": [
        "import matplotlib.pyplot as plt\n",
        "import matplotlib\n",
        "%matplotlib inline"
      ],
      "metadata": {
        "id": "ebFMsHlac-9G"
      },
      "execution_count": null,
      "outputs": []
    },
    {
      "cell_type": "code",
      "source": [
        "A = [2, 8]\n",
        "B = [9, -7]\n",
        "plt.scatter(A[0], A[1], label='A', c='pink')\n",
        "plt.scatter(B[0], B[1], label='B', c='green')\n",
        "plt.grid()\n",
        "plt.legend()\n",
        "plt.show()"
      ],
      "metadata": {
        "colab": {
          "base_uri": "https://localhost:8080/",
          "height": 265
        },
        "id": "2xb_ApNXdBg5",
        "outputId": "100d7eab-4f69-4584-d130-946648ef8eb1"
      },
      "execution_count": null,
      "outputs": [
        {
          "output_type": "display_data",
          "data": {
            "text/plain": [
              "<Figure size 432x288 with 1 Axes>"
            ],
            "image/png": "[encoded data removed]"
          },
          "metadata": {
            "needs_background": "light"
          }
        }
      ]
    },
    {
      "cell_type": "code",
      "source": [
        "C = np.array([14, 55])\n",
        "D = np.array([-35, 12])\n",
        "plt.title(\"Resultant Vector\")\n",
        "plt.xlim(-80, 80)\n",
        "plt.ylim(-80, 80)\n",
        "plt.quiver(0, 0, H[0], H[1], angles='xy', scale_units='xy', scale=1, color='pink')\n",
        "plt.quiver(H[0], H[1], J[0], J[1], angles='xy', scale_units='xy', scale=1, color='yellow')\n",
        "E = C + D\n",
        "plt.quiver(0, 0, I[0], I[1], angles='xy', scale_units='xy', scale=1, color='orange')\n",
        "plt.grid()\n",
        "plt.show()\n",
        "print(E)\n",
        "Slope = E[1]/E[0]\n",
        "print(Slope)\n",
        "Angle = (np.arctan(Slope))*(180/np.pi)\n",
        "print(Angle)"
      ],
      "metadata": {
        "colab": {
          "base_uri": "https://localhost:8080/",
          "height": 333
        },
        "id": "pEOVrr5vdGMO",
        "outputId": "9f6ec61c-171d-467b-dd55-742f68dcb8b4"
      },
      "execution_count": null,
      "outputs": [
        {
          "output_type": "display_data",
          "data": {
            "text/plain": [
              "<Figure size 432x288 with 1 Axes>"
            ],
            "image/png": "[encoded data removed]"
          },
          "metadata": {
            "needs_background": "light"
          }
        },
        {
          "output_type": "stream",
          "name": "stdout",
          "text": [
            "[-21  67]\n",
            "-3.1904761904761907\n",
            "-72.59729586864373\n"
          ]
        }
      ]
    },
    {
      "cell_type": "code",
      "source": [
        "n = C.shape[0]\n",
        "plt.xlim(-90, 90)\n",
        "plt.ylim(-90, 90)\n",
        "plt.quiver(0,0, C[0], C[1], angles='xy', scale_units='xy',scale=1)\n",
        "plt.quiver(C[0],C[1], D[0], D[1], angles='xy', scale_units='xy',scale=1)\n",
        "plt.quiver(0,0, E[0], E[1], angles='xy', scale_units='xy',scale=1)\n",
        "plt.show()"
      ],
      "metadata": {
        "colab": {
          "base_uri": "https://localhost:8080/",
          "height": 265
        },
        "id": "gI-R_5jbdIji",
        "outputId": "26a2e858-f795-4486-c367-55be9bd44038"
      },
      "execution_count": null,
      "outputs": [
        {
          "output_type": "display_data",
          "data": {
            "text/plain": [
              "<Figure size 432x288 with 1 Axes>"
            ],
            "image/png": "[encoded data removed]"
          },
          "metadata": {
            "needs_background": "light"
          }
        }
      ]
    },
    {
      "cell_type": "markdown",
      "source": [
        "Try plotting Three Vectors and show the Resultant Vector as a result.\n",
        "Use Head to Tail Method."
      ],
      "metadata": {
        "id": "nELd-tMvdLVW"
      }
    },
    {
      "cell_type": "code",
      "source": [
        "X = np.array([5, 42])\n",
        "Y = np.array([-21, 9])\n",
        "Z = X + Y \n",
        "Resultant = np.sqrt(np.sum(Z**2))\n",
        "plt.title(\"Resultant Vector:{}\" .format(Resultant))\n",
        "plt.xlim(-70, 70)\n",
        "plt.ylim(-70, 70)\n",
        "plt.quiver(0, 0, X[0], X[1], angles='xy', scale_units='xy', scale=1, color='yellow')\n",
        "plt.quiver(X[0], X[1], Y[0], Y[1], angles='xy', scale_units='xy', scale=1, color='green')\n",
        "plt.quiver(0, 0, Z[0], Z[1], angles='xy', scale_units='xy', scale=1, color='red')\n",
        "plt.grid()\n",
        "plt.show()\n",
        "print(\"Resultant Vector:{}\" .format(Z))\n",
        "Slope = Z[1]/Z[0]\n",
        "print(\"Slope:{}\" .format(Slope))\n",
        "Angle = (np.arctan(Slope))*(180/np.pi)\n",
        "print(\"Angle:{}\" .format(Angle))"
      ],
      "metadata": {
        "colab": {
          "base_uri": "https://localhost:8080/",
          "height": 333
        },
        "id": "zLtu5z_qdNt-",
        "outputId": "0dbb3917-f3c0-4680-9867-8806587b5a02"
      },
      "execution_count": null,
      "outputs": [
        {
          "output_type": "display_data",
          "data": {
            "text/plain": [
              "<Figure size 432x288 with 1 Axes>"
            ],
            "image/png": "[encoded data removed]"
          },
          "metadata": {
            "needs_background": "light"
          }
        },
        {
          "output_type": "stream",
          "name": "stdout",
          "text": [
            "Resultant Vector:[-16  51]\n",
            "Slope:-3.1875\n",
            "Angle:-72.58202920779716\n"
          ]
        }
      ]
    },
    {
      "cell_type": "code",
      "source": [
        "L = np.array([52, -87])\n",
        "M = np.array([-30, 12])\n",
        "N = L + M\n",
        "Resultant = np.sqrt(np.sum(N**2))\n",
        "plt.title(\"Resultant Vector:{}\" .format(Resultant))\n",
        "plt.xlim(-90, 90)\n",
        "plt.ylim(-90, 90)\n",
        "plt.quiver(0, 0, L[0], L[1], angles='xy', scale_units='xy', scale=1, color='black')\n",
        "plt.quiver(L[0], L[1], M[0], M[1], angles='xy', scale_units='xy', scale=1, color='violet')\n",
        "plt.quiver(0, 0, N[0], N[1], angles='xy', scale_units='xy', scale=1, color='pink')\n",
        "plt.grid()\n",
        "plt.show()\n",
        "print(\"Resultant Vector:{}\" .format(N))\n",
        "Slope = N[1]/N[0]\n",
        "print(\"Slope:{}\" .format(Slope))\n",
        "Angle = (np.arctan(Slope))*(180/np.pi)\n",
        "print(\"Angle:{}\" .format(Angle))"
      ],
      "metadata": {
        "id": "tOkminandRXu",
        "outputId": "08a6df5a-ce1f-423a-9315-cf40f3998025",
        "colab": {
          "base_uri": "https://localhost:8080/",
          "height": 333
        }
      },
      "execution_count": null,
      "outputs": [
        {
          "output_type": "display_data",
          "data": {
            "text/plain": [
              "<Figure size 432x288 with 1 Axes>"
            ],
            "image/png": "[encoded data removed]"
          },
          "metadata": {
            "needs_background": "light"
          }
        },
        {
          "output_type": "stream",
          "name": "stdout",
          "text": [
            "Resultant Vector:[ 22 -75]\n",
            "Slope:-3.409090909090909\n",
            "Angle:-73.65182845264876\n"
          ]
        }
      ]
    },
    {
      "cell_type": "code",
      "source": [
        "Q = np.array([44, -77])\n",
        "R = np.array([-22, 11])\n",
        "S = Q + R\n",
        "Resultant = np.sqrt(np.sum(S**2))\n",
        "plt.title(\"Resultant Vector:{}\" .format(Resultant))\n",
        "plt.xlim(-90, 90)\n",
        "plt.ylim(-90, 90)\n",
        "plt.quiver(0, 0, Q[0], Q[1], angles='xy', scale_units='xy', scale=1, color='red')\n",
        "plt.quiver(Q[0], Q[1], R[0], R[1], angles='xy', scale_units='xy', scale=1, color='yellow')\n",
        "plt.quiver(0, 0, S[0], S[1], angles='xy', scale_units='xy', scale=1, color='orange')\n",
        "plt.grid()\n",
        "plt.show()\n",
        "print(\"Resultant Vector:{}\" .format(S))\n",
        "Slope = S[1]/S[0]\n",
        "print(\"Slope:{}\" .format(Slope))\n",
        "Angle = (np.arctan(Slope))*(180/np.pi)\n",
        "print(\"Angle:{}\" .format(Angle))"
      ],
      "metadata": {
        "id": "hxeTygStdWH6",
        "outputId": "6e9f4a47-b26a-4b17-e429-c6e202170bc4",
        "colab": {
          "base_uri": "https://localhost:8080/",
          "height": 333
        }
      },
      "execution_count": null,
      "outputs": [
        {
          "output_type": "display_data",
          "data": {
            "text/plain": [
              "<Figure size 432x288 with 1 Axes>"
            ],
            "image/png": "[encoded data removed]"
          },
          "metadata": {
            "needs_background": "light"
          }
        },
        {
          "output_type": "stream",
          "name": "stdout",
          "text": [
            "Resultant Vector:[ 22 -66]\n",
            "Slope:-3.0\n",
            "Angle:-71.56505117707799\n"
          ]
        }
      ]
    }
  ]
}