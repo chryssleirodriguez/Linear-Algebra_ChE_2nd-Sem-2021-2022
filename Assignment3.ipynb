{
  "nbformat": 4,
  "nbformat_minor": 0,
  "metadata": {
    "colab": {
      "name": "Assignment3.ipynb",
      "provenance": [],
      "authorship_tag": "ABX9TyM/7/NP+5Tzly5cuJTDjmli",
      "include_colab_link": true
    },
    "kernelspec": {
      "name": "python3",
      "display_name": "Python 3"
    },
    "language_info": {
      "name": "python"
    }
  },
  "cells": [
    {
      "cell_type": "markdown",
      "metadata": {
        "id": "view-in-github",
        "colab_type": "text"
      },
      "source": [
        "<a href=\"https://colab.research.google.com/github/chryssleirodriguez/Linear-Algebra_ChE_2nd-Sem-2021-2022/blob/main/Assignment3.ipynb\" target=\"_parent\"><img src=\"https://colab.research.google.com/assets/colab-badge.svg\" alt=\"Open In Colab\"/></a>"
      ]
    },
    {
      "cell_type": "markdown",
      "source": [
        "#Linear Algebra for ChE\n",
        "## Assignment 3: Matrices"
      ],
      "metadata": {
        "id": "fdljDhUZKTPk"
      }
    },
    {
      "cell_type": "markdown",
      "source": [
        "### Objectives\n",
        "At the end of this activity you will be able to:\n",
        "1. Be familiar with matrices and their relation to linear equations.\n",
        "2. Perform basic matrix operations.\n",
        "3. Program and translate matrix equations and operations using Python.\n"
      ],
      "metadata": {
        "id": "ayiOVJTQKcQk"
      }
    },
    {
      "cell_type": "markdown",
      "source": [
        "# Discussion"
      ],
      "metadata": {
        "id": "ZGl_c7OpKuZT"
      }
    },
    {
      "cell_type": "code",
      "source": [
        "import numpy as np\n",
        "import matplotlib.pyplot as plt\n",
        "import scipy.linalg as la\n",
        "%matplotlib inline"
      ],
      "metadata": {
        "id": "xjy8SKMnKxY8"
      },
      "execution_count": 9,
      "outputs": []
    },
    {
      "cell_type": "markdown",
      "source": [
        "# Matrices\n"
      ],
      "metadata": {
        "id": "QZGDMn8qLJSE"
      }
    },
    {
      "cell_type": "markdown",
      "metadata": {
        "id": "bupDDbjZK_R9"
      },
      "source": [
        "\n",
        "\n",
        "```\n",
        "`# This is formatted as code`\n",
        "```\n",
        "\n",
        "## Matrices\n",
        "Matrices are a column-by-row rectangular array of numbers. In statistics, matrix algebra is used to represent data sets. For a simple reason, we use different notation. It's easier to follow the laws of matrix math when you stick to conventions. If you have a list like this in elementary algebra: To accordance with convention, you'd adjust it and represent it in a complex equation type.\n",
        "\n",
        "Let's say for example you have ***A*** and ***B*** as system of equation."
      ]
    },
    {
      "cell_type": "markdown",
      "source": [
        "$$\n",
        "A = \\left\\{\n",
        "    \\begin{array}\\\n",
        "        x + y \\\\ \n",
        "        4x - 10y\n",
        "    \\end{array}\n",
        "\\right. \\\\\n",
        "B = \\left\\{\n",
        "    \\begin{array}\\\n",
        "        x+y+z \\\\ \n",
        "        3x -2y -z \\\\\n",
        "        -x + 4y +2z\n",
        "    \\end{array}\n",
        "\\right. \\\\\n",
        "C = \\left\\{\n",
        "    \\begin{array}\\\n",
        "      w-2x+3y-4z \\\\\n",
        "      3w-x-2y+z \\\\\n",
        "      2w-x+3y-2z\n",
        "    \\end{array}\n",
        "\\right.\n",
        "$$"
      ],
      "metadata": {
        "id": "9M8Ll7ARSJf3"
      }
    },
    {
      "cell_type": "markdown",
      "source": [
        "We could see that ***A*** is a system of 2 equations with 2 parameters. While ***B*** is a system of 3 equations with 3 parameters. We can represent them as matrices as:"
      ],
      "metadata": {
        "id": "YBNS7UwDSYYw"
      }
    },
    {
      "cell_type": "markdown",
      "source": [
        "$$\n",
        "A=\\begin{bmatrix} 1 & 1 \\\\ 4 & {-10}\\end{bmatrix} \\\\\n",
        "B=\\begin{bmatrix} 1 & 1 & 1 \\\\ 3 & -2 & -1 \\\\ -1 & 4 & 2\\end{bmatrix}\\\\\n",
        "C=\\begin{bmatrix} 1 & -3 & 2 & -4 \\\\ 3 & -4 & -2 & 1 \\\\ 3 & -2 & -5 & -3\\end{bmatrix}\n",
        "$$\n"
      ],
      "metadata": {
        "id": "1nHi1CAWOwIJ"
      }
    },
    {
      "cell_type": "markdown",
      "source": [
        "So assuming that you already discussed the fundamental representation of matrices, their types, and operations. We'll proceed in doing them in here in Python."
      ],
      "metadata": {
        "id": "skYUp_QqSjtf"
      }
    },
    {
      "cell_type": "markdown",
      "source": [
        "## Declaring Matrices"
      ],
      "metadata": {
        "id": "IOMZybR4SnEp"
      }
    },
    {
      "cell_type": "markdown",
      "source": [
        "The elements or entries of a matrix are the individual items (numbers, symbols, or phrases) that make up the matrix.\n",
        "\n",
        "Two matrices can be added or removed element by element as long as they are the same size (have the same number of rows and columns). The rule for matrix multiplication, on the other hand, is that two matrices can only be multiplied if the first's number of columns equals the second's number of rows. A scalar from the related field can be multiplied element-by-element by any matrix.\n",
        "\n",
        "Row vectors are matrices with a single row, and column vectors are matrices with a single column. A square matrix is a matrix with the same number of rows and columns. A matrix with no rows or columns, known as an empty matrix, is beneficial in particular situations, such as computer algebra applications.\n",
        "\n",
        "Do note that the *size* of a matrix is *i x j.*"
      ],
      "metadata": {
        "id": "eMU8H15SSt7t"
      }
    },
    {
      "cell_type": "markdown",
      "source": [
        "$$A=\\begin{bmatrix}\n",
        "a_{(0,0)}&a_{(0,1)}&\\dots&a_{(0,j-1)}\\\\\n",
        "a_{(1,0)}&a_{(1,1)}&\\dots&a_{(1,j-1)}\\\\\n",
        "\\vdots&\\vdots&\\ddots&\\vdots&\\\\\n",
        "a_{(i-1,0)}&a_{(i-1,1)}&\\dots&a_{(i-1,j-1)}\n",
        "\\end{bmatrix}\n",
        "$$\n"
      ],
      "metadata": {
        "id": "bNY7LXv9Qk7z"
      }
    },
    {
      "cell_type": "markdown",
      "source": [
        "We already gone over some of the types of matrices as vectors but we'll further discuss them in this laboratory activity. Since you already know how to describe vectors using **shape**, **dimensions** and **size** attributes, we'll use them to analyze the matrices."
      ],
      "metadata": {
        "id": "EDWwe9LvS0vB"
      }
    },
    {
      "cell_type": "code",
      "source": [
        "## Since we'll keep on describing matrices. Let's make a function.\n",
        "def describe_mat(matrix):\n",
        "    print(f'Matrix:\\n{matrix}\\n\\nShape:\\t{matrix.shape}\\nRank:\\t{matrix.ndim}\\n')\n"
      ],
      "metadata": {
        "id": "bUjcKobYQm5h"
      },
      "execution_count": 10,
      "outputs": []
    },
    {
      "cell_type": "code",
      "source": [
        "## Declaring a 2 x 2 matrix\n",
        "A = np.array([\n",
        "    [1, 2],\n",
        "    [3, 1]\n",
        "])\n",
        "describe_mat(A)\n"
      ],
      "metadata": {
        "colab": {
          "base_uri": "https://localhost:8080/"
        },
        "id": "-mjSZuJBQ9jS",
        "outputId": "c1288b8f-3b60-4441-e2d5-16734eab9e92"
      },
      "execution_count": 11,
      "outputs": [
        {
          "output_type": "stream",
          "name": "stdout",
          "text": [
            "Matrix:\n",
            "[[1 2]\n",
            " [3 1]]\n",
            "\n",
            "Shape:\t(2, 2)\n",
            "Rank:\t2\n",
            "\n"
          ]
        }
      ]
    },
    {
      "cell_type": "code",
      "source": [
        "G = np.array([\n",
        "    [2,5,4],\n",
        "    [4,9,6]\n",
        "])\n",
        "describe_mat(G)\n"
      ],
      "metadata": {
        "colab": {
          "base_uri": "https://localhost:8080/"
        },
        "id": "jQ95eZq3SGZK",
        "outputId": "74693274-7365-4756-d0fe-6021abaca9ed"
      },
      "execution_count": 12,
      "outputs": [
        {
          "output_type": "stream",
          "name": "stdout",
          "text": [
            "Matrix:\n",
            "[[2 5 4]\n",
            " [4 9 6]]\n",
            "\n",
            "Shape:\t(2, 3)\n",
            "Rank:\t2\n",
            "\n"
          ]
        }
      ]
    },
    {
      "cell_type": "code",
      "source": [
        "## Declaring a 3 x 2 matrix\\\n",
        "B = np.array([\n",
        "    [7, 3],\n",
        "    [4, 1],\n",
        "    [9, 3]\n",
        "])\n",
        "describe_mat(B)\n"
      ],
      "metadata": {
        "colab": {
          "base_uri": "https://localhost:8080/"
        },
        "id": "Jmm8uxVxST_A",
        "outputId": "26e14eb0-1934-4093-f884-579a0a4b4497"
      },
      "execution_count": 13,
      "outputs": [
        {
          "output_type": "stream",
          "name": "stdout",
          "text": [
            "Matrix:\n",
            "[[7 3]\n",
            " [4 1]\n",
            " [9 3]]\n",
            "\n",
            "Shape:\t(3, 2)\n",
            "Rank:\t2\n",
            "\n"
          ]
        }
      ]
    },
    {
      "cell_type": "code",
      "source": [
        "H = np.array([4,3,2,1])\n",
        "describe_mat(H)\n"
      ],
      "metadata": {
        "colab": {
          "base_uri": "https://localhost:8080/"
        },
        "id": "yGcAZJVaSevA",
        "outputId": "5652859f-62f5-4335-84ef-0434ada9b199"
      },
      "execution_count": 14,
      "outputs": [
        {
          "output_type": "stream",
          "name": "stdout",
          "text": [
            "Matrix:\n",
            "[4 3 2 1]\n",
            "\n",
            "Shape:\t(4,)\n",
            "Rank:\t1\n",
            "\n"
          ]
        }
      ]
    },
    {
      "cell_type": "markdown",
      "source": [
        "## Categorizing Matrices\n",
        "\n",
        "There are several ways of classifying matrices. Once could be according to their **shape** and another is according to their **element values**. We'll try to go to them."
      ],
      "metadata": {
        "id": "GWM9cMGgTgzN"
      }
    },
    {
      "cell_type": "markdown",
      "source": [
        "### According to Shape\n",
        "\n",
        "#### Row and Column Matrices"
      ],
      "metadata": {
        "id": "uMd0YriBTpQy"
      }
    },
    {
      "cell_type": "code",
      "source": [
        "## Declaring a Row Matrix\n",
        "\n",
        "rowmatrix1D = np.array([\n",
        "    5, 4, 3, 2\n",
        "]) ## this is a 1-D Matrix with a shape of (3,), it's not really considered as a row matrix.\n",
        "row_mat_2D = np.array([\n",
        "    [3,1,2, -4]\n",
        "]) ## this is a 2-D Matrix with a shape of (1,3)\n",
        "describe_mat(rowmatrix1D)\n",
        "describe_mat(row_mat_2D)\n"
      ],
      "metadata": {
        "colab": {
          "base_uri": "https://localhost:8080/"
        },
        "id": "ePU4t1TxT3OA",
        "outputId": "ceb47f69-eafd-4c5c-9298-f92220498145"
      },
      "execution_count": 15,
      "outputs": [
        {
          "output_type": "stream",
          "name": "stdout",
          "text": [
            "Matrix:\n",
            "[5 4 3 2]\n",
            "\n",
            "Shape:\t(4,)\n",
            "Rank:\t1\n",
            "\n",
            "Matrix:\n",
            "[[ 3  1  2 -4]]\n",
            "\n",
            "Shape:\t(1, 4)\n",
            "Rank:\t2\n",
            "\n"
          ]
        }
      ]
    },
    {
      "cell_type": "code",
      "source": [
        "## Declaring a Column Matrix\n",
        "\n",
        "col_mat = np.array([\n",
        "    [5],\n",
        "    [3],\n",
        "    [1]\n",
        "]) ## this is a 2-D Matrix with a shape of (3,1)\n",
        "describe_mat(col_mat)\n"
      ],
      "metadata": {
        "colab": {
          "base_uri": "https://localhost:8080/"
        },
        "id": "tyIAEXD6UjFE",
        "outputId": "fc5fec4a-e6e7-4d8b-ebec-5f73623a1ecf"
      },
      "execution_count": 16,
      "outputs": [
        {
          "output_type": "stream",
          "name": "stdout",
          "text": [
            "Matrix:\n",
            "[[5]\n",
            " [3]\n",
            " [1]]\n",
            "\n",
            "Shape:\t(3, 1)\n",
            "Rank:\t2\n",
            "\n"
          ]
        }
      ]
    },
    {
      "cell_type": "markdown",
      "source": [
        "#### Square Matrices\n",
        "\n",
        "A square matrix is known as an equal matrix. To put it another way, a square matrix is one in which the number of rows and columns in the matrix are equal."
      ],
      "metadata": {
        "id": "JOR33mj1T6Xm"
      }
    },
    {
      "cell_type": "code",
      "source": [
        "def describe_mat(matrix):\n",
        "    is_square = True if matrix.shape[0] == matrix.shape[1] else False \n",
        "    print(f'Matrix:\\n{matrix}\\n\\nShape:\\t{matrix.shape}\\nRank:\\t{matrix.ndim}\\nIs Square: {is_square}\\n')\n"
      ],
      "metadata": {
        "id": "PEWYBO33VasZ"
      },
      "execution_count": 18,
      "outputs": []
    },
    {
      "cell_type": "code",
      "source": [
        "square_mat = np.array([\n",
        "    [1,2,5],\n",
        "    [3,3,8],\n",
        "    [6,1,2]\n",
        "])\n",
        "\n",
        "non_square_mat = np.array([\n",
        "    [1,2,5],\n",
        "    [3,3,8]\n",
        "])\n",
        "describe_mat(square_mat)\n",
        "describe_mat(non_square_mat)\n"
      ],
      "metadata": {
        "colab": {
          "base_uri": "https://localhost:8080/"
        },
        "id": "aBX0y2qvVcsv",
        "outputId": "5a12a112-3b4b-4324-a92c-c30851bbfa4d"
      },
      "execution_count": 19,
      "outputs": [
        {
          "output_type": "stream",
          "name": "stdout",
          "text": [
            "Matrix:\n",
            "[[1 2 5]\n",
            " [3 3 8]\n",
            " [6 1 2]]\n",
            "\n",
            "Shape:\t(3, 3)\n",
            "Rank:\t2\n",
            "Is Square: True\n",
            "\n",
            "Matrix:\n",
            "[[1 2 5]\n",
            " [3 3 8]]\n",
            "\n",
            "Shape:\t(2, 3)\n",
            "Rank:\t2\n",
            "Is Square: False\n",
            "\n"
          ]
        }
      ]
    },
    {
      "cell_type": "markdown",
      "source": [
        "### According to Element Values"
      ],
      "metadata": {
        "id": "bxT62pffUOja"
      }
    },
    {
      "cell_type": "markdown",
      "source": [
        "#### Null Matrix\n",
        "\n",
        "A null matrix is a matrix that has no elements. It is always a subspace of any vector or matrix."
      ],
      "metadata": {
        "id": "GFSGEuLOVxiw"
      }
    },
    {
      "cell_type": "code",
      "source": [
        "def describe_mat(matrix):\n",
        "    if matrix.size > 0:\n",
        "        is_square = True if matrix.shape[0] == matrix.shape[1] else False \n",
        "        print(f'Matrix:\\n{matrix}\\n\\nShape:\\t{matrix.shape}\\nRank:\\t{matrix.ndim}\\nIs Square: {is_square}\\n')\n",
        "    else:\n",
        "        print('Matrix is Null')\n"
      ],
      "metadata": {
        "id": "iEso5wCJWMjQ"
      },
      "execution_count": 20,
      "outputs": []
    },
    {
      "cell_type": "code",
      "source": [
        "null_mat = np.array([])\n",
        "describe_mat(null_mat)\n"
      ],
      "metadata": {
        "colab": {
          "base_uri": "https://localhost:8080/"
        },
        "id": "BIPEYh-zWTKk",
        "outputId": "b58e62b1-ca54-4e55-d47c-b1a6c5ea375c"
      },
      "execution_count": 21,
      "outputs": [
        {
          "output_type": "stream",
          "name": "stdout",
          "text": [
            "Matrix is Null\n"
          ]
        }
      ]
    },
    {
      "cell_type": "markdown",
      "source": [
        "#### Zero Matrix\n",
        "\n",
        "A zero matrix is a matrix of any dimension with all of its element entries being zeros."
      ],
      "metadata": {
        "id": "tZ2Jp-M9V7iW"
      }
    },
    {
      "cell_type": "code",
      "source": [
        "zero_mat_row = np.zeros((1,2))\n",
        "zero_mat_sqr = np.zeros((2,2))\n",
        "zero_mat_rct = np.zeros((3,2))\n",
        "\n",
        "print(f'Zero Row Matrix: \\n{zero_mat_row}')\n",
        "print(f'Zero Square Matrix: \\n{zero_mat_sqr}')\n",
        "print(f'Zero Rectangular Matrix: \\n{zero_mat_rct}')\n"
      ],
      "metadata": {
        "colab": {
          "base_uri": "https://localhost:8080/"
        },
        "id": "prYQfGCWXO1x",
        "outputId": "370e1a70-2a7e-45cc-b218-9b953bb07f7d"
      },
      "execution_count": 22,
      "outputs": [
        {
          "output_type": "stream",
          "name": "stdout",
          "text": [
            "Zero Row Matrix: \n",
            "[[0. 0.]]\n",
            "Zero Square Matrix: \n",
            "[[0. 0.]\n",
            " [0. 0.]]\n",
            "Zero Rectangular Matrix: \n",
            "[[0. 0.]\n",
            " [0. 0.]\n",
            " [0. 0.]]\n"
          ]
        }
      ]
    },
    {
      "cell_type": "markdown",
      "source": [
        "#### Ones Matrix\n",
        "\n",
        "A matrix of ones is a matrix in which all of the elements are one."
      ],
      "metadata": {
        "id": "uoznRmnwWGbQ"
      }
    },
    {
      "cell_type": "code",
      "source": [
        "ones_mat_row = np.ones((1,2))\n",
        "ones_mat_sqr = np.ones((2,2))\n",
        "ones_mat_rct = np.ones((3,2))\n",
        "\n",
        "print(f'Ones Row Matrix: \\n{ones_mat_row}')\n",
        "print(f'Ones Square Matrix: \\n{ones_mat_sqr}')\n",
        "print(f'Ones Rectangular Matrix: \\n{ones_mat_rct}')\n"
      ],
      "metadata": {
        "colab": {
          "base_uri": "https://localhost:8080/"
        },
        "id": "YZp0rjdOXfUP",
        "outputId": "766a42de-ea75-4b00-8ba3-a45964fcae89"
      },
      "execution_count": 23,
      "outputs": [
        {
          "output_type": "stream",
          "name": "stdout",
          "text": [
            "Ones Row Matrix: \n",
            "[[1. 1.]]\n",
            "Ones Square Matrix: \n",
            "[[1. 1.]\n",
            " [1. 1.]]\n",
            "Ones Rectangular Matrix: \n",
            "[[1. 1.]\n",
            " [1. 1.]\n",
            " [1. 1.]]\n"
          ]
        }
      ]
    },
    {
      "cell_type": "markdown",
      "source": [
        "#### Diagonal Matrix\n",
        "\n",
        "A diagonal matrix is a square matrix with all elements 0 except those in the diagonal from top left to bottom right."
      ],
      "metadata": {
        "id": "LHF4jtb1WTkA"
      }
    },
    {
      "cell_type": "code",
      "source": [
        "np.array([\n",
        "    [2,0,0],\n",
        "    [0,3,0],\n",
        "    [0,0,5]\n",
        "])\n"
      ],
      "metadata": {
        "colab": {
          "base_uri": "https://localhost:8080/"
        },
        "id": "ikhFRyZDX9UI",
        "outputId": "551dbe4a-55b5-4234-ca1c-9707f9802377"
      },
      "execution_count": 24,
      "outputs": [
        {
          "output_type": "execute_result",
          "data": {
            "text/plain": [
              "array([[2, 0, 0],\n",
              "       [0, 3, 0],\n",
              "       [0, 0, 5]])"
            ]
          },
          "metadata": {},
          "execution_count": 24
        }
      ]
    },
    {
      "cell_type": "code",
      "source": [
        "d = np.diag([2,3,5,7])\n",
        "#d.shape[0] == d.shape[1]\n",
        "d"
      ],
      "metadata": {
        "colab": {
          "base_uri": "https://localhost:8080/"
        },
        "id": "t6EbsBAWX_Iw",
        "outputId": "53858591-5e20-49fa-8de7-5148bfeeabb1"
      },
      "execution_count": 25,
      "outputs": [
        {
          "output_type": "execute_result",
          "data": {
            "text/plain": [
              "array([[2, 0, 0, 0],\n",
              "       [0, 3, 0, 0],\n",
              "       [0, 0, 5, 0],\n",
              "       [0, 0, 0, 7]])"
            ]
          },
          "metadata": {},
          "execution_count": 25
        }
      ]
    },
    {
      "cell_type": "markdown",
      "source": [
        "#### Identity Matrix\n",
        "\n",
        "An identity matrix is a square matrix of any order that has one value on its principal diagonal elements and zero values on the remainder of the matrix components."
      ],
      "metadata": {
        "id": "zDJWmdKzWipb"
      }
    },
    {
      "cell_type": "code",
      "source": [
        "np.eye(3)"
      ],
      "metadata": {
        "colab": {
          "base_uri": "https://localhost:8080/"
        },
        "id": "Zm73td5GY2p-",
        "outputId": "68c86026-0acd-43bc-f468-287339f45029"
      },
      "execution_count": 28,
      "outputs": [
        {
          "output_type": "execute_result",
          "data": {
            "text/plain": [
              "array([[1., 0., 0.],\n",
              "       [0., 1., 0.],\n",
              "       [0., 0., 1.]])"
            ]
          },
          "metadata": {},
          "execution_count": 28
        }
      ]
    },
    {
      "cell_type": "code",
      "source": [
        "np.identity(20)\n"
      ],
      "metadata": {
        "colab": {
          "base_uri": "https://localhost:8080/"
        },
        "id": "4TIc2By2Y6VV",
        "outputId": "c872459f-4602-4f33-91af-02381964ee14"
      },
      "execution_count": 26,
      "outputs": [
        {
          "output_type": "execute_result",
          "data": {
            "text/plain": [
              "array([[1., 0., 0., 0., 0., 0., 0., 0., 0., 0., 0., 0., 0., 0., 0., 0.,\n",
              "        0., 0., 0., 0.],\n",
              "       [0., 1., 0., 0., 0., 0., 0., 0., 0., 0., 0., 0., 0., 0., 0., 0.,\n",
              "        0., 0., 0., 0.],\n",
              "       [0., 0., 1., 0., 0., 0., 0., 0., 0., 0., 0., 0., 0., 0., 0., 0.,\n",
              "        0., 0., 0., 0.],\n",
              "       [0., 0., 0., 1., 0., 0., 0., 0., 0., 0., 0., 0., 0., 0., 0., 0.,\n",
              "        0., 0., 0., 0.],\n",
              "       [0., 0., 0., 0., 1., 0., 0., 0., 0., 0., 0., 0., 0., 0., 0., 0.,\n",
              "        0., 0., 0., 0.],\n",
              "       [0., 0., 0., 0., 0., 1., 0., 0., 0., 0., 0., 0., 0., 0., 0., 0.,\n",
              "        0., 0., 0., 0.],\n",
              "       [0., 0., 0., 0., 0., 0., 1., 0., 0., 0., 0., 0., 0., 0., 0., 0.,\n",
              "        0., 0., 0., 0.],\n",
              "       [0., 0., 0., 0., 0., 0., 0., 1., 0., 0., 0., 0., 0., 0., 0., 0.,\n",
              "        0., 0., 0., 0.],\n",
              "       [0., 0., 0., 0., 0., 0., 0., 0., 1., 0., 0., 0., 0., 0., 0., 0.,\n",
              "        0., 0., 0., 0.],\n",
              "       [0., 0., 0., 0., 0., 0., 0., 0., 0., 1., 0., 0., 0., 0., 0., 0.,\n",
              "        0., 0., 0., 0.],\n",
              "       [0., 0., 0., 0., 0., 0., 0., 0., 0., 0., 1., 0., 0., 0., 0., 0.,\n",
              "        0., 0., 0., 0.],\n",
              "       [0., 0., 0., 0., 0., 0., 0., 0., 0., 0., 0., 1., 0., 0., 0., 0.,\n",
              "        0., 0., 0., 0.],\n",
              "       [0., 0., 0., 0., 0., 0., 0., 0., 0., 0., 0., 0., 1., 0., 0., 0.,\n",
              "        0., 0., 0., 0.],\n",
              "       [0., 0., 0., 0., 0., 0., 0., 0., 0., 0., 0., 0., 0., 1., 0., 0.,\n",
              "        0., 0., 0., 0.],\n",
              "       [0., 0., 0., 0., 0., 0., 0., 0., 0., 0., 0., 0., 0., 0., 1., 0.,\n",
              "        0., 0., 0., 0.],\n",
              "       [0., 0., 0., 0., 0., 0., 0., 0., 0., 0., 0., 0., 0., 0., 0., 1.,\n",
              "        0., 0., 0., 0.],\n",
              "       [0., 0., 0., 0., 0., 0., 0., 0., 0., 0., 0., 0., 0., 0., 0., 0.,\n",
              "        1., 0., 0., 0.],\n",
              "       [0., 0., 0., 0., 0., 0., 0., 0., 0., 0., 0., 0., 0., 0., 0., 0.,\n",
              "        0., 1., 0., 0.],\n",
              "       [0., 0., 0., 0., 0., 0., 0., 0., 0., 0., 0., 0., 0., 0., 0., 0.,\n",
              "        0., 0., 1., 0.],\n",
              "       [0., 0., 0., 0., 0., 0., 0., 0., 0., 0., 0., 0., 0., 0., 0., 0.,\n",
              "        0., 0., 0., 1.]])"
            ]
          },
          "metadata": {},
          "execution_count": 26
        }
      ]
    },
    {
      "cell_type": "markdown",
      "source": [
        "#### Upper Triangular Matrix\n",
        "\n",
        "An upper triangular matrix is a square matrix in which all of the elements below the left-right diagonal are 0."
      ],
      "metadata": {
        "id": "NTS2iDhzWsqn"
      }
    },
    {
      "cell_type": "code",
      "source": [
        "np.array([\n",
        "    [1,2,3,4],\n",
        "    [0,3,1,-1],\n",
        "    [0,0,5,2],\n",
        "    [0,0,0,2]\n",
        "])\n"
      ],
      "metadata": {
        "colab": {
          "base_uri": "https://localhost:8080/"
        },
        "id": "VHx4UaNBZYjN",
        "outputId": "011bce58-4a4a-491d-94cd-82813aaa4a52"
      },
      "execution_count": 29,
      "outputs": [
        {
          "output_type": "execute_result",
          "data": {
            "text/plain": [
              "array([[ 1,  2,  3,  4],\n",
              "       [ 0,  3,  1, -1],\n",
              "       [ 0,  0,  5,  2],\n",
              "       [ 0,  0,  0,  2]])"
            ]
          },
          "metadata": {},
          "execution_count": 29
        }
      ]
    },
    {
      "cell_type": "code",
      "source": [
        "F = np.array([\n",
        "              [2, -3, 4, -5, 6],\n",
        "              [2, -3, 4, -5, 6],\n",
        "              [2, -3, 4, -5, 6],\n",
        "              [2, -3, 4, -5, 6],\n",
        "              [2, -3, 4, -5, 6],\n",
        "])\n",
        "np.triu(F)\n"
      ],
      "metadata": {
        "colab": {
          "base_uri": "https://localhost:8080/"
        },
        "id": "MJirAaXuZuGn",
        "outputId": "de3fa8db-a9fa-4007-a0c3-4f2fc9c12b8b"
      },
      "execution_count": 30,
      "outputs": [
        {
          "output_type": "execute_result",
          "data": {
            "text/plain": [
              "array([[ 2, -3,  4, -5,  6],\n",
              "       [ 0, -3,  4, -5,  6],\n",
              "       [ 0,  0,  4, -5,  6],\n",
              "       [ 0,  0,  0, -5,  6],\n",
              "       [ 0,  0,  0,  0,  6]])"
            ]
          },
          "metadata": {},
          "execution_count": 30
        }
      ]
    },
    {
      "cell_type": "markdown",
      "source": [
        "#### Lower Triangular Matrix\n",
        "\n",
        "A lower triangular matrix is a square matrix with all elements 0 above the left-right diagonal."
      ],
      "metadata": {
        "id": "qD6pTsNvW-UL"
      }
    },
    {
      "cell_type": "code",
      "source": [
        "np.tril(F)\n"
      ],
      "metadata": {
        "colab": {
          "base_uri": "https://localhost:8080/"
        },
        "id": "5DaWME8haA0t",
        "outputId": "293380de-5c18-49cf-db99-33b3d570e665"
      },
      "execution_count": 31,
      "outputs": [
        {
          "output_type": "execute_result",
          "data": {
            "text/plain": [
              "array([[ 2,  0,  0,  0,  0],\n",
              "       [ 2, -3,  0,  0,  0],\n",
              "       [ 2, -3,  4,  0,  0],\n",
              "       [ 2, -3,  4, -5,  0],\n",
              "       [ 2, -3,  4, -5,  6]])"
            ]
          },
          "metadata": {},
          "execution_count": 31
        }
      ]
    },
    {
      "cell_type": "markdown",
      "source": [
        "#Matrix Algebra"
      ],
      "metadata": {
        "id": "otzO3n79XGdV"
      }
    },
    {
      "cell_type": "markdown",
      "source": [
        "##Addition"
      ],
      "metadata": {
        "id": "s-prEn_6XJ9t"
      }
    },
    {
      "cell_type": "code",
      "source": [
        "A = np.array([\n",
        "    [5,3],\n",
        "    [9,1],\n",
        "    [3,2]\n",
        "])\n",
        "B = np.array([\n",
        "    [1,3],\n",
        "    [0,4],\n",
        "    [1,7]\n",
        "])\n",
        "A+B"
      ],
      "metadata": {
        "colab": {
          "base_uri": "https://localhost:8080/"
        },
        "id": "CsptVs12XMm8",
        "outputId": "40a26018-14dd-4ab0-9f3c-1484092b6091"
      },
      "execution_count": 32,
      "outputs": [
        {
          "output_type": "execute_result",
          "data": {
            "text/plain": [
              "array([[6, 6],\n",
              "       [9, 5],\n",
              "       [4, 9]])"
            ]
          },
          "metadata": {},
          "execution_count": 32
        }
      ]
    },
    {
      "cell_type": "code",
      "source": [
        "2+A ##Broadcasting\n",
        "# 2*np.ones(A.shape)+A"
      ],
      "metadata": {
        "colab": {
          "base_uri": "https://localhost:8080/"
        },
        "id": "EBBZBH6MXRdo",
        "outputId": "72bb845b-d65b-4894-fa3e-74b9fc9ce885"
      },
      "execution_count": 33,
      "outputs": [
        {
          "output_type": "execute_result",
          "data": {
            "text/plain": [
              "array([[ 7,  5],\n",
              "       [11,  3],\n",
              "       [ 5,  4]])"
            ]
          },
          "metadata": {},
          "execution_count": 33
        }
      ]
    },
    {
      "cell_type": "markdown",
      "source": [
        "##Subtraction"
      ],
      "metadata": {
        "id": "nxw9AwSrXUQb"
      }
    },
    {
      "cell_type": "code",
      "source": [
        "A-B"
      ],
      "metadata": {
        "colab": {
          "base_uri": "https://localhost:8080/"
        },
        "id": "kHL9YhjRXXDf",
        "outputId": "de2a882a-c944-4fff-e07a-da75a9f6e896"
      },
      "execution_count": 34,
      "outputs": [
        {
          "output_type": "execute_result",
          "data": {
            "text/plain": [
              "array([[ 4,  0],\n",
              "       [ 9, -3],\n",
              "       [ 2, -5]])"
            ]
          },
          "metadata": {},
          "execution_count": 34
        }
      ]
    },
    {
      "cell_type": "code",
      "source": [
        "3-B == 3*np.ones(B.shape)-B"
      ],
      "metadata": {
        "colab": {
          "base_uri": "https://localhost:8080/"
        },
        "id": "QWkiLTzKXbO0",
        "outputId": "d6d27c23-2ba2-478d-aa4f-364b136bf413"
      },
      "execution_count": 35,
      "outputs": [
        {
          "output_type": "execute_result",
          "data": {
            "text/plain": [
              "array([[ True,  True],\n",
              "       [ True,  True],\n",
              "       [ True,  True]])"
            ]
          },
          "metadata": {},
          "execution_count": 35
        }
      ]
    },
    {
      "cell_type": "markdown",
      "source": [
        "##Element-wise Multiplication"
      ],
      "metadata": {
        "id": "IaQ9ikBiXrXd"
      }
    },
    {
      "cell_type": "code",
      "source": [
        "A*B\n",
        "np.multiply(A,B)"
      ],
      "metadata": {
        "colab": {
          "base_uri": "https://localhost:8080/"
        },
        "id": "40sG6f1qXwR2",
        "outputId": "f4147965-a6d4-4603-f524-ea480b84b4ad"
      },
      "execution_count": 36,
      "outputs": [
        {
          "output_type": "execute_result",
          "data": {
            "text/plain": [
              "array([[ 5,  9],\n",
              "       [ 0,  4],\n",
              "       [ 3, 14]])"
            ]
          },
          "metadata": {},
          "execution_count": 36
        }
      ]
    },
    {
      "cell_type": "code",
      "source": [
        "2*A"
      ],
      "metadata": {
        "colab": {
          "base_uri": "https://localhost:8080/"
        },
        "id": "p0CcAevnXzwA",
        "outputId": "4a9d6b0f-30f7-4f4d-dd61-e622bfb697d5"
      },
      "execution_count": 37,
      "outputs": [
        {
          "output_type": "execute_result",
          "data": {
            "text/plain": [
              "array([[10,  6],\n",
              "       [18,  2],\n",
              "       [ 6,  4]])"
            ]
          },
          "metadata": {},
          "execution_count": 37
        }
      ]
    },
    {
      "cell_type": "code",
      "source": [
        "A@B"
      ],
      "metadata": {
        "colab": {
          "base_uri": "https://localhost:8080/",
          "height": 165
        },
        "id": "h-SaeIz9X2hs",
        "outputId": "94a19d06-f724-433f-ac94-40de50b26409"
      },
      "execution_count": 38,
      "outputs": [
        {
          "output_type": "error",
          "ename": "ValueError",
          "evalue": "ignored",
          "traceback": [
            "\u001b[0;31m---------------------------------------------------------------------------\u001b[0m",
            "\u001b[0;31mValueError\u001b[0m                                Traceback (most recent call last)",
            "\u001b[0;32m<ipython-input-38-5016aafd2858>\u001b[0m in \u001b[0;36m<module>\u001b[0;34m()\u001b[0m\n\u001b[0;32m----> 1\u001b[0;31m \u001b[0mA\u001b[0m\u001b[0;34m@\u001b[0m\u001b[0mB\u001b[0m\u001b[0;34m\u001b[0m\u001b[0;34m\u001b[0m\u001b[0m\n\u001b[0m",
            "\u001b[0;31mValueError\u001b[0m: matmul: Input operand 1 has a mismatch in its core dimension 0, with gufunc signature (n?,k),(k,m?)->(n?,m?) (size 3 is different from 2)"
          ]
        }
      ]
    },
    {
      "cell_type": "markdown",
      "source": [
        "#Activity"
      ],
      "metadata": {
        "id": "2XueoMCiYN7_"
      }
    },
    {
      "cell_type": "markdown",
      "source": [
        "##Task 1\n",
        "\n",
        "Create a function named mat_desc() that througouhly describes a matrix, it should:\n",
        "\n",
        "Displays the shape, size, and rank of the matrix.\n",
        "Displays whether the matrix is square or non-square.\n",
        "Displays whether the matrix is an empty matrix.\n",
        "Displays if the matrix is an identity, ones, or zeros matrix\n",
        "\n",
        "Use 5 sample matrices in which their shapes are not lower than **(3, 3)**. In your methodology, create a flowchart discuss the functions and methods you have done. Present your results in the results section showing the description of each matrix you have declared."
      ],
      "metadata": {
        "id": "6-NYWylDYRet"
      }
    },
    {
      "cell_type": "code",
      "source": [
        "## Function area and matrix declarations\n",
        "def mat_desc(mat):\n",
        "    square = False\n",
        "    iden = np.identity(mat.shape[0])\n",
        "    one = np.ones((mat.shape[0], mat.shape[1]))\n",
        "    zero = np.zeros((mat.shape[0], mat.shape[1]))\n",
        "    print(np.array)\n",
        "    print(\"Shape:\", mat.shape)\n",
        "    print(\"Size:\", mat.size)\n",
        "    print(\"Rank:\", np.linalg.matrix_rank(mat))\n",
        "    if(mat.shape[0] == mat.shape[1]):\n",
        "        square = True\n",
        "        print(\"This matrix is square\")\n",
        "    else:\n",
        "        print(\"This matrix is non-square\")\n",
        "    if(mat.shape[0] == 0 and mat.shape[1] == 0):\n",
        "        print(\"This matrix is empty\")\n",
        "    else:\n",
        "        print(\"This matrix is not empty\")\n",
        "    if(square and (iden == mat).all()):\n",
        "        print(\"This is an identity matrix\")\n",
        "    elif((one == mat).all()):\n",
        "        print(\"This is ones matrix\")\n",
        "    elif((zero == mat).all()):\n",
        "        print(\"This is zeros matrix\")\n",
        "    else:\n",
        "        print(\"This is neither an identity, nor ones, nor zeros matrix\")"
      ],
      "metadata": {
        "id": "E3XaV3LSYZeX"
      },
      "execution_count": 40,
      "outputs": []
    },
    {
      "cell_type": "code",
      "source": [
        "## Test Areas\n",
        "A = np.array([\n",
        "    [8,2,1],\n",
        "    [5,8,2],\n",
        "    [3,4,1]\n",
        "])\n",
        "mat_desc(A)"
      ],
      "metadata": {
        "colab": {
          "base_uri": "https://localhost:8080/"
        },
        "id": "zoymsPBAYfc9",
        "outputId": "44101946-28ad-49fc-8e80-222e87b748ef"
      },
      "execution_count": 41,
      "outputs": [
        {
          "output_type": "stream",
          "name": "stdout",
          "text": [
            "<built-in function array>\n",
            "Shape: (3, 3)\n",
            "Size: 9\n",
            "Rank: 3\n",
            "This matrix is square\n",
            "This matrix is not empty\n",
            "This is neither an identity, nor ones, nor zeros matrix\n"
          ]
        }
      ]
    },
    {
      "cell_type": "code",
      "source": [
        "B = np.array([\n",
        "    [0,0,0],\n",
        "    [0,0,0],\n",
        "    [0,0,0]\n",
        "])\n",
        "mat_desc(B)"
      ],
      "metadata": {
        "colab": {
          "base_uri": "https://localhost:8080/"
        },
        "id": "66OGK0uuZDBD",
        "outputId": "bb0f23b5-668d-4597-8075-c028c974b6f1"
      },
      "execution_count": 42,
      "outputs": [
        {
          "output_type": "stream",
          "name": "stdout",
          "text": [
            "<built-in function array>\n",
            "Shape: (3, 3)\n",
            "Size: 9\n",
            "Rank: 0\n",
            "This matrix is square\n",
            "This matrix is not empty\n",
            "This is zeros matrix\n"
          ]
        }
      ]
    },
    {
      "cell_type": "code",
      "source": [
        "C = np.array([\n",
        "    [1,0,0],\n",
        "    [0,1,0],\n",
        "    [0,0,1]\n",
        "])\n",
        "mat_desc(C)"
      ],
      "metadata": {
        "colab": {
          "base_uri": "https://localhost:8080/"
        },
        "id": "MWpT3OwqZLdi",
        "outputId": "763ada42-fb48-435c-9d12-cfd74adb5804"
      },
      "execution_count": 43,
      "outputs": [
        {
          "output_type": "stream",
          "name": "stdout",
          "text": [
            "<built-in function array>\n",
            "Shape: (3, 3)\n",
            "Size: 9\n",
            "Rank: 3\n",
            "This matrix is square\n",
            "This matrix is not empty\n",
            "This is an identity matrix\n"
          ]
        }
      ]
    },
    {
      "cell_type": "code",
      "source": [
        "D = np.array([\n",
        "    [1,1,1],\n",
        "    [1,1,1],\n",
        "    [1,1,1]\n",
        "])\n",
        "mat_desc(D)"
      ],
      "metadata": {
        "colab": {
          "base_uri": "https://localhost:8080/"
        },
        "id": "jaNV2aICZQTq",
        "outputId": "6b65a5fc-60f8-4077-be47-5ec58063f768"
      },
      "execution_count": 44,
      "outputs": [
        {
          "output_type": "stream",
          "name": "stdout",
          "text": [
            "<built-in function array>\n",
            "Shape: (3, 3)\n",
            "Size: 9\n",
            "Rank: 1\n",
            "This matrix is square\n",
            "This matrix is not empty\n",
            "This is ones matrix\n"
          ]
        }
      ]
    },
    {
      "cell_type": "code",
      "source": [
        "E = np.array([\n",
        "    [1,1],\n",
        "    [1,1],\n",
        "    [1,1]\n",
        "])\n",
        "mat_desc(E)"
      ],
      "metadata": {
        "colab": {
          "base_uri": "https://localhost:8080/"
        },
        "id": "o-2YtzNcZU8p",
        "outputId": "1867119b-e5c9-4489-90ef-a4ca71aa8355"
      },
      "execution_count": 45,
      "outputs": [
        {
          "output_type": "stream",
          "name": "stdout",
          "text": [
            "<built-in function array>\n",
            "Shape: (3, 2)\n",
            "Size: 6\n",
            "Rank: 1\n",
            "This matrix is non-square\n",
            "This matrix is not empty\n",
            "This is ones matrix\n"
          ]
        }
      ]
    },
    {
      "cell_type": "markdown",
      "source": [
        "##Task 2\n",
        "\n",
        "Create a function named `mat_operations()` that takes in two matrices a input parameters it should:<br>\n",
        " 1. Determines if the matrices are viable for operation and returns your own error message if they are not viable.\n",
        " 2. Returns the sum of the matrices.\n",
        " 3. Returns the differen of the matrices.\n",
        " 4. Returns the element-wise multiplication of the matrices.\n",
        " 5. Returns the element-wise division of the matrices.\n",
        "\n",
        "Use 5 sample matrices in which their shapes are not lower than $(3,3)$.\n",
        "In your methodology, create a flowchart discuss the functions and methods you have done. Present your results in the results section showing the description of each matrix you have declared."
      ],
      "metadata": {
        "id": "T5OZnFWTZXJb"
      }
    },
    {
      "cell_type": "code",
      "source": [
        "import numpy as np \n",
        "import matplotlib.pyplot as plt\n",
        "import scipy.linalg as la\n",
        "%matplotlib inline\n",
        "X = int(input(\"Number of rows for 1st Matrix: \"))\n",
        "Y = int(input(\"Number of columns for 1st Matrix: \")) \n",
        "print(\"Entries per row (separated by space): \")  \n",
        "entries_1 = list(map(int, input().split()))\n",
        " \n",
        "num_entries_1 = len(entries_1)\n",
        "area_dim_1 = X*Y\n",
        "\n",
        "def describe_mat(matrix):\n",
        "  is_square = True if matrix.shape[0] == matrix.shape[1] else False\n",
        "  print(f'\\nMatrix:\\n{matrix}\\n\\nShape:\\t{matrix.shape}\\nRank:\\t{matrix.ndim}\\nIs Square: {is_square}\\n\\n')\n",
        "\n",
        "##validation if the number of entry is not inclined in the product of row and column.\n",
        "if (area_dim_1 != num_entries_1):\n",
        "  print(\"Incorrect entry of data. You can only have as many entries as the sum of the number of rows and columns in your data.\")\n",
        "  raise ValueError(\"Error! Please make sure you enter the correct number of series in your submission.\")\n",
        "\n",
        "matrix_1 = np.array(entries_1).reshape(X, Y)\n",
        "\n",
        "describe_mat (matrix_1)\n",
        "##\n",
        "A = int(input(\"Number of rows for 2nd Matrix: \"))\n",
        "B = int(input(\"Number of colums for 2nd Matrix: \"))\n",
        "print(\"Entries per row (separated by space): \")\n",
        "entries_2 = list(map(int, input().split()))\n",
        "\n",
        "num_entries_2 = len(entries_2)\n",
        "area_dim_2 = A*B\n",
        "\n",
        "##validation if the number of entry is not inclined in the product of row and column.\n",
        "if (area_dim_2 != num_entries_2):\n",
        "  print(\"Incorrect entry of data. You can only have as many entries as the sum of the number of rows and columns in your data.\")\n",
        "  raise ValueError(\"Error! Please make sure you enter the correct number of series in your submission.\")\n",
        "\n",
        "matrix_2 = np.array(entries_2).reshape(A, B)\n",
        "describe_mat (matrix_2)\n",
        "##\n",
        "dec_operation = input (\"Enter Your Desired Operation (+,-,*,/) : \")\n",
        "##\n",
        "if dec_operation == '+' or dec_operation.lower() == \"addition\": \n",
        "  Matrix_sum = matrix_1 + matrix_2\n",
        "  print(\"The Sum of the two Matrices are: \\n{}\".format(Matrix_sum))\n",
        "##SUBTRACTION##\n",
        "if dec_operation == '-' or dec_operation.lower() == \"subtraction\": \n",
        "  Matrix_diff = matrix_1 - matrix_2\n",
        "  print(\"The Difference of the two Matrices are: \\n{}\".format(Matrix_diff))\n",
        "##MULTIPLICATION##\n",
        "if dec_operation == '*' or dec_operation.lower() == \"multiplication\": \n",
        "  Matrix_prod = matrix_1 * matrix_2\n",
        "  print(\"The Product of the two Matrices are: \\n{}\".format(Matrix_prod))\n",
        "##DIVISION##\n",
        "if dec_operation == '/' or dec_operation.lower() == \"division\": \n",
        "  Matrix_quo = matrix_1 / matrix_2\n",
        "  print(\"The Quotient of the two Matrices are: \\n{}\".format(Matrix_quo))\n",
        "##"
      ],
      "metadata": {
        "colab": {
          "base_uri": "https://localhost:8080/"
        },
        "id": "2PCdxjg2ZpwP",
        "outputId": "3b78b7f8-5f8f-42f5-f56c-6025f1df1c0a"
      },
      "execution_count": 62,
      "outputs": [
        {
          "output_type": "stream",
          "name": "stdout",
          "text": [
            "Number of rows for 1st Matrix: 2\n",
            "Number of columns for 1st Matrix: 2\n",
            "Entries per row (separated by space): \n",
            "1 2 3 4\n",
            "\n",
            "Matrix:\n",
            "[[1 2]\n",
            " [3 4]]\n",
            "\n",
            "Shape:\t(2, 2)\n",
            "Rank:\t2\n",
            "Is Square: True\n",
            "\n",
            "\n",
            "Number of rows for 2nd Matrix: 2\n",
            "Number of colums for 2nd Matrix: 2\n",
            "Entries per row (separated by space): \n",
            "5 6 8 9\n",
            "\n",
            "Matrix:\n",
            "[[5 6]\n",
            " [8 9]]\n",
            "\n",
            "Shape:\t(2, 2)\n",
            "Rank:\t2\n",
            "Is Square: True\n",
            "\n",
            "\n",
            "Enter Your Desired Operation (+,-,*,/) : +\n",
            "The Sum of the two Matrices are: \n",
            "[[ 6  8]\n",
            " [11 13]]\n"
          ]
        }
      ]
    },
    {
      "cell_type": "markdown",
      "source": [
        "#References\n",
        "\n",
        "https://www.statisticshowto.com/matrices-and-matrix-algebra/\n",
        "\n",
        "https://courses.lumenlearning.com/boundless-algebra/chapter/introduction-to-matrices/#:~:text=matrix%3A%20A%20rectangular%20arrangement%20of,representing%20graphs%20in%20graph%20theory.\n",
        "\n",
        "https://www.math-only-math.com/square-matrix.html\n",
        "\n",
        "https://www.studypug.com/algebra-help/zero-matrix\n",
        "\n",
        "https://www.studypug.com/algebra-help/identity-matrix\n",
        "\n",
        "https://www.definitions.net/definition/Matrix+of+ones\n"
      ],
      "metadata": {
        "id": "j6wNCwpDdZlP"
      }
    }
  ]
}