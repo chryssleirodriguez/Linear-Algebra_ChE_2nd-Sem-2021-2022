{
  "nbformat": 4,
  "nbformat_minor": 0,
  "metadata": {
    "colab": {
      "name": "Assignment10:Rodriguez.ipynb",
      "provenance": [],
      "authorship_tag": "ABX9TyOysEgDKmOUCVS4zhatDA+3",
      "include_colab_link": true
    },
    "kernelspec": {
      "name": "python3",
      "display_name": "Python 3"
    },
    "language_info": {
      "name": "python"
    }
  },
  "cells": [
    {
      "cell_type": "markdown",
      "metadata": {
        "id": "view-in-github",
        "colab_type": "text"
      },
      "source": [
        "<a href=\"https://colab.research.google.com/github/chryssleirodriguez/Linear-Algebra_ChE_2nd-Sem-2021-2022/blob/main/Assignment10_Rodriguez.ipynb\" target=\"_parent\"><img src=\"https://colab.research.google.com/assets/colab-badge.svg\" alt=\"Open In Colab\"/></a>"
      ]
    },
    {
      "cell_type": "markdown",
      "source": [
        "# Linear Algebra for ECE\n",
        "## Laboratory 10 : Linear Combination and Vector Spaces\n",
        "\n",
        "Now that you have a fundamental knowledge about linear combination, we'll try to visualize it using scientific programming."
      ],
      "metadata": {
        "id": "D8zFI4aNW1iS"
      }
    },
    {
      "cell_type": "markdown",
      "source": [
        "###Objectives\n",
        "At the end of this activity you will be able to:\n",
        "1. Be familiar with representing linear combinations in the 2-dimensional plane.\n",
        "2. Visualize spans using vector fields in Python.\n",
        "3. Perform vector fields operations using scientific programming."
      ],
      "metadata": {
        "id": "UkFH5ECkXw-e"
      }
    },
    {
      "cell_type": "markdown",
      "source": [
        "##Discussion"
      ],
      "metadata": {
        "id": "VOelNaLKX6uC"
      }
    },
    {
      "cell_type": "code",
      "source": [
        "import numpy as np\n",
        "import matplotlib.pyplot as plt\n",
        "%matplotlib inline"
      ],
      "metadata": {
        "id": "r4etAwESX8Fx"
      },
      "execution_count": 1,
      "outputs": []
    },
    {
      "cell_type": "markdown",
      "source": [
        "##Linear Combination\n",
        "\n",
        "It is said that a linear combination is the combination of linear scaling and addition of a vector its bases/components"
      ],
      "metadata": {
        "id": "GzdLjqoIYT-L"
      }
    },
    {
      "cell_type": "markdown",
      "source": [
        "We will try to visualize the vectors and their linear combinations by plotting a sample of real number values for the scalars for the vectors. Let's first try the vectors below:\n",
        "\n",
        "$$X = \\begin{bmatrix} 4\\\\10 \\\\\\end{bmatrix} , Y = \\begin{bmatrix} 9\\\\11 \\\\\\end{bmatrix} $$"
      ],
      "metadata": {
        "id": "Mn0g1YwVYYGm"
      }
    },
    {
      "cell_type": "code",
      "source": [
        "vectX =  np.array([4,10])\n",
        "vectY =  np.array([9,11])"
      ],
      "metadata": {
        "id": "kSDGyV38YbcB"
      },
      "execution_count": 2,
      "outputs": []
    },
    {
      "cell_type": "markdown",
      "source": [
        "####Span of single vectors"
      ],
      "metadata": {
        "id": "T2SKyyjRYewH"
      }
    },
    {
      "cell_type": "markdown",
      "source": [
        "As discussed in the lecture, the span of individual vectors can be represented by a line span. Let's take vector $X$ as an example.\n",
        "\n",
        "$$X = c\\cdot \\begin{bmatrix} 4\\\\10 \\\\\\end{bmatrix} $$"
      ],
      "metadata": {
        "id": "rGPU7oAqYfez"
      }
    },
    {
      "cell_type": "code",
      "source": [
        "c = np.arange(-15,18,0.5)\n",
        "\n",
        "plt.scatter(c*vectX[0],c*vectX[1])\n",
        "\n",
        "plt.xlim(-20,20)\n",
        "plt.ylim(-20,20)\n",
        "plt.axhline(y=0, color='k')\n",
        "plt.axvline(x=0, color='k')\n",
        "plt.grid()\n",
        "plt.show()"
      ],
      "metadata": {
        "colab": {
          "base_uri": "https://localhost:8080/",
          "height": 269
        },
        "id": "fL63_UW1Yj5Q",
        "outputId": "3f136b79-73c6-4c2c-c842-5aa4c0839412"
      },
      "execution_count": 3,
      "outputs": [
        {
          "output_type": "display_data",
          "data": {
            "text/plain": [
              "<Figure size 432x288 with 1 Axes>"
            ],
            "image/png": "[encoded data removed]"
          },
          "metadata": {
            "needs_background": "light"
          }
        }
      ]
    },
    {
      "cell_type": "markdown",
      "source": [
        "$$Y = c\\cdot \\begin{bmatrix} 9\\\\11 \\\\\\end{bmatrix} $$"
      ],
      "metadata": {
        "id": "Ma9iiQeVYvF4"
      }
    },
    {
      "cell_type": "code",
      "source": [
        "c = np.arange(-10,20,0.5)\n",
        "\n",
        "plt.scatter(c*vectY[0],c*vectY[1])\n",
        "\n",
        "plt.xlim(-50,50)\n",
        "plt.ylim(-50,50)\n",
        "plt.axhline(y=0, color='k')\n",
        "plt.axvline(x=0, color='k')\n",
        "plt.grid()\n",
        "plt.show()"
      ],
      "metadata": {
        "colab": {
          "base_uri": "https://localhost:8080/",
          "height": 265
        },
        "id": "hiRE-_VqYv3V",
        "outputId": "5b96fac0-5dca-48be-fea7-318b50624466"
      },
      "execution_count": 5,
      "outputs": [
        {
          "output_type": "display_data",
          "data": {
            "text/plain": [
              "<Figure size 432x288 with 1 Axes>"
            ],
            "image/png": "[encoded data removed]"
          },
          "metadata": {
            "needs_background": "light"
          }
        }
      ]
    },
    {
      "cell_type": "markdown",
      "source": [
        "###Span of a linear combination of vectors"
      ],
      "metadata": {
        "id": "BIPs4E5rY8xk"
      }
    },
    {
      "cell_type": "markdown",
      "source": [
        "So what if we are to plot the span of a linear combination of vectors? We can visualize as a plane on the 2-dimensional coordinate system. Let's take the span of the linear combination below:\n",
        "\n",
        "$$S = \\begin{Bmatrix} c_1 \\cdot\\begin{bmatrix} 4\\\\2 \\\\\\end{bmatrix}, \n",
        "c_2 \\cdot \\begin{bmatrix} -5\\\\8 \\\\\\end{bmatrix}\\end{Bmatrix} $$"
      ],
      "metadata": {
        "id": "FDuKW5NKZACN"
      }
    },
    {
      "cell_type": "code",
      "source": [
        "vectM = np.array([4,2])\n",
        "vectN = np.array([-5,8])\n",
        "\n",
        "R = np.arange(-15,8,1)\n",
        "\n",
        "c1, c2 = np.meshgrid(R,R)\n",
        "\n",
        "vectR = vectM + vectN\n",
        "spanRx = c1*vectM[0] + c2*vectN[0]\n",
        "spanRy = c1*vectM[1] + c2*vectN[1]\n",
        "##plt.scatter(R*vectM[0],R*vectM[1])\n",
        "##plt.scatter(R*vectN[0],R*vectN[1])\n",
        "plt.scatter(spanRx,spanRy, s=5, alpha=0.75)\n",
        "\n",
        "plt.axhline(y=0, color='k')\n",
        "plt.axvline(x=0, color='k')\n",
        "plt.grid()\n",
        "plt.show()"
      ],
      "metadata": {
        "colab": {
          "base_uri": "https://localhost:8080/",
          "height": 265
        },
        "id": "BEEV_icxZJt0",
        "outputId": "576ca997-8287-49be-c5bb-03be16fa7e8a"
      },
      "execution_count": 6,
      "outputs": [
        {
          "output_type": "display_data",
          "data": {
            "text/plain": [
              "<Figure size 432x288 with 1 Axes>"
            ],
            "image/png": "[encoded data removed]"
          },
          "metadata": {
            "needs_background": "light"
          }
        }
      ]
    },
    {
      "cell_type": "code",
      "source": [
        "vectX = np.array([5,-18])\n",
        "vectY = np.array([3,-15])\n",
        "\n",
        "R = np.arange(-50,50,5)\n",
        "\n",
        "c1, c2 = np.meshgrid(R,R)\n",
        "\n",
        "vectR = vectX + vectY\n",
        "spanRx = c1*vectX[0] + c2*vectY[0]\n",
        "spanRy = c1*vectX[1] + c2*vectY[1]\n",
        "##plt.scatter(R*vectX[0],R*vectX[1])\n",
        "##plt.scatter(R*vectY[0],R*vectY[1])\n",
        "plt.scatter(spanRx,spanRy, s=5, alpha=0.75)\n",
        "\n",
        "plt.axhline(y=0, color='k')\n",
        "plt.axvline(x=0, color='k')\n",
        "plt.grid()\n",
        "plt.show()"
      ],
      "metadata": {
        "colab": {
          "base_uri": "https://localhost:8080/",
          "height": 265
        },
        "id": "DU_VLfkKZMzH",
        "outputId": "545f9d45-6b13-47ed-db4f-0be4d7805d30"
      },
      "execution_count": 7,
      "outputs": [
        {
          "output_type": "display_data",
          "data": {
            "text/plain": [
              "<Figure size 432x288 with 1 Axes>"
            ],
            "image/png": "[encoded data removed]"
          },
          "metadata": {
            "needs_background": "light"
          }
        }
      ]
    },
    {
      "cell_type": "markdown",
      "source": [
        "Take note that if vectors are seen to be as a 2-dimensional span we can say it has a Rank of 2 or $\\mathbb{R}^2$. But if the span of the linear combination of vectors are seen to be like a line, they are said to be <b> linearly dependent </b> and they have a rank of 1 or $\\mathbb{R}^1$."
      ],
      "metadata": {
        "id": "bjej0XF4ZRXT"
      }
    },
    {
      "cell_type": "markdown",
      "source": [
        "#Activity"
      ],
      "metadata": {
        "id": "-TXF1nhjZXwX"
      }
    },
    {
      "cell_type": "markdown",
      "source": [
        "### Task 1\n",
        "\n",
        "Try different linear combinations using different scalar values. In your methodology discuss the different functions that you have used, the  linear equation and vector form of the linear combination, and the flowchart for declaring and displaying linear combinations. Please make sure that your flowchart has only few words and not putting the entire code as it is bad practice. In your results, display and discuss the linear combination visualization you made. You should use the cells below for displaying the equation markdows using LaTeX and your code."
      ],
      "metadata": {
        "id": "mYFnGEk3Zban"
      }
    },
    {
      "cell_type": "markdown",
      "source": [
        "$$\n",
        "Space \\cdot for \\cdot the \\cdot general \\cdot linear \\cdot equation \\cdot form\n",
        "$$\n",
        "\n",
        "$$ A = 17\\hat{x} - 18\\hat{y} \\\\\n",
        "B = -8\\hat{x} + 4\\hat{y}$$"
      ],
      "metadata": {
        "id": "V6aroc7qZfL0"
      }
    },
    {
      "cell_type": "markdown",
      "source": [
        "$$Space \\cdot for \\cdot the \\cdot vector \\cdot form$$\n",
        "\n",
        "$$A = \\begin{bmatrix} 17\\\\-18 \\\\\\end{bmatrix} , B = \\begin{bmatrix} -8\\\\4 \\\\\\end{bmatrix} $$\n",
        "\n",
        "$$A = c\\cdot \\begin{bmatrix} 17\\\\-18 \\\\\\end{bmatrix} , B = c\\cdot \\begin{bmatrix} -8\\\\4 \\\\\\end{bmatrix} $$"
      ],
      "metadata": {
        "id": "H-ujMl8zZgpn"
      }
    },
    {
      "cell_type": "code",
      "source": [
        "### TYPE YOU CODE FOR TASK 1 HERE\n",
        "vectA =  np.array([17,-18])\n",
        "vectB =  np.array([-8,4])"
      ],
      "metadata": {
        "id": "eGfpkkOEZmAI"
      },
      "execution_count": 8,
      "outputs": []
    },
    {
      "cell_type": "code",
      "source": [
        "c = np.arange(-50,30,0.5)\n",
        "\n",
        "plt.scatter(c*vectA[0],c*vectA[1])\n",
        "\n",
        "plt.xlim(-30,30)\n",
        "plt.ylim(-30,30)\n",
        "plt.axhline(y=0, color='pink')\n",
        "plt.axvline(x=0, color='green')\n",
        "plt.grid()\n",
        "plt.show()"
      ],
      "metadata": {
        "colab": {
          "base_uri": "https://localhost:8080/",
          "height": 269
        },
        "id": "K3I3czdpZpcD",
        "outputId": "9a51d857-d2ea-456f-81e7-358941eda01f"
      },
      "execution_count": 9,
      "outputs": [
        {
          "output_type": "display_data",
          "data": {
            "text/plain": [
              "<Figure size 432x288 with 1 Axes>"
            ],
            "image/png": "[encoded data removed]"
          },
          "metadata": {
            "needs_background": "light"
          }
        }
      ]
    },
    {
      "cell_type": "code",
      "source": [
        "c = np.arange(0,10,0.4)\n",
        "\n",
        "plt.scatter(c*vectB[0],c*vectB[1])\n",
        "\n",
        "plt.xlim(-20,20)\n",
        "plt.ylim(-20,20)\n",
        "plt.axhline(y=0, color='yellow')\n",
        "plt.axvline(x=0, color='blue')\n",
        "plt.grid()\n",
        "plt.show()"
      ],
      "metadata": {
        "colab": {
          "base_uri": "https://localhost:8080/",
          "height": 269
        },
        "id": "c6wBW1ckZtHP",
        "outputId": "a519b565-4aca-426a-94c8-5dc241af5913"
      },
      "execution_count": 10,
      "outputs": [
        {
          "output_type": "display_data",
          "data": {
            "text/plain": [
              "<Figure size 432x288 with 1 Axes>"
            ],
            "image/png": "[encoded data removed]"
          },
          "metadata": {
            "needs_background": "light"
          }
        }
      ]
    },
    {
      "cell_type": "markdown",
      "source": [
        "$$ C = 4\\hat{x} - 17\\hat{y} \\\\\n",
        "D = -5\\hat{x} + 10\\hat{y}$$\n",
        "\n",
        "$$S = \\begin{Bmatrix} c_1 \\cdot\\begin{bmatrix} 4\\\\-17 \\\\\\end{bmatrix}, \n",
        "c_2 \\cdot \\begin{bmatrix} -5\\\\10 \\\\\\end{bmatrix}\\end{Bmatrix} $$"
      ],
      "metadata": {
        "id": "gDpJQAlWZwKN"
      }
    },
    {
      "cell_type": "code",
      "source": [
        "vectC = np.array([4,-17])\n",
        "vectD = np.array([-5,10])"
      ],
      "metadata": {
        "id": "F_dUb2TCZ2OS"
      },
      "execution_count": 11,
      "outputs": []
    },
    {
      "cell_type": "code",
      "source": [
        "R = np.arange(-10,10,0.5)\n",
        "\n",
        "c1, c2 = np.meshgrid(R,R)\n",
        "\n",
        "vectR = vectC + vectD\n",
        "spanRx = c1*vectC[0] + c2*vectD[0]\n",
        "spanRy = c1*vectC[1] + c2*vectD[1]\n",
        "plt.scatter(spanRx,spanRy, s=5, alpha=0.5)\n",
        "\n",
        "plt.axhline(y=0, color='purple')\n",
        "plt.axvline(x=0, color='green')\n",
        "plt.grid()"
      ],
      "metadata": {
        "colab": {
          "base_uri": "https://localhost:8080/",
          "height": 265
        },
        "id": "jUmZcNyhZ6v9",
        "outputId": "ee6c0828-f084-4053-dd22-6add3442c455"
      },
      "execution_count": 12,
      "outputs": [
        {
          "output_type": "display_data",
          "data": {
            "text/plain": [
              "<Figure size 432x288 with 1 Axes>"
            ],
            "image/png": "[encoded data removed]"
          },
          "metadata": {
            "needs_background": "light"
          }
        }
      ]
    },
    {
      "cell_type": "markdown",
      "source": [
        "## Conclusion guide\n",
        "\n",
        "For your conclusion synthesize the concept and application of the laboratory. Briefly discuss what you have learn and achieved in this activity. At the end of your conclusion try to answer the question : \"How can you apply the concept of linear combination in engineering or real-life situations?\"."
      ],
      "metadata": {
        "id": "McNRP2VRaAXh"
      }
    }
  ]
}